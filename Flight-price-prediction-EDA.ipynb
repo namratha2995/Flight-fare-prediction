{
 "cells": [
  {
   "cell_type": "code",
   "execution_count": 1,
   "metadata": {},
   "outputs": [],
   "source": [
    "# import all the necessary libraries\n",
    "import numpy as np\n",
    "import pandas as pd\n",
    "import matplotlib.pyplot as plt\n",
    "import seaborn as sns\n",
    "\n",
    "%matplotlib inline"
   ]
  },
  {
   "cell_type": "code",
   "execution_count": 2,
   "metadata": {},
   "outputs": [
    {
     "data": {
      "text/html": [
       "<div>\n",
       "<style scoped>\n",
       "    .dataframe tbody tr th:only-of-type {\n",
       "        vertical-align: middle;\n",
       "    }\n",
       "\n",
       "    .dataframe tbody tr th {\n",
       "        vertical-align: top;\n",
       "    }\n",
       "\n",
       "    .dataframe thead th {\n",
       "        text-align: right;\n",
       "    }\n",
       "</style>\n",
       "<table border=\"1\" class=\"dataframe\">\n",
       "  <thead>\n",
       "    <tr style=\"text-align: right;\">\n",
       "      <th></th>\n",
       "      <th>Airline</th>\n",
       "      <th>Date_of_Journey</th>\n",
       "      <th>Source</th>\n",
       "      <th>Destination</th>\n",
       "      <th>Route</th>\n",
       "      <th>Dep_Time</th>\n",
       "      <th>Arrival_Time</th>\n",
       "      <th>Duration</th>\n",
       "      <th>Total_Stops</th>\n",
       "      <th>Additional_Info</th>\n",
       "      <th>Price</th>\n",
       "    </tr>\n",
       "  </thead>\n",
       "  <tbody>\n",
       "    <tr>\n",
       "      <th>0</th>\n",
       "      <td>IndiGo</td>\n",
       "      <td>24/03/2019</td>\n",
       "      <td>Banglore</td>\n",
       "      <td>New Delhi</td>\n",
       "      <td>BLR → DEL</td>\n",
       "      <td>22:20</td>\n",
       "      <td>01:10 22 Mar</td>\n",
       "      <td>2h 50m</td>\n",
       "      <td>non-stop</td>\n",
       "      <td>No info</td>\n",
       "      <td>3897</td>\n",
       "    </tr>\n",
       "    <tr>\n",
       "      <th>1</th>\n",
       "      <td>Air India</td>\n",
       "      <td>1/05/2019</td>\n",
       "      <td>Kolkata</td>\n",
       "      <td>Banglore</td>\n",
       "      <td>CCU → IXR → BBI → BLR</td>\n",
       "      <td>05:50</td>\n",
       "      <td>13:15</td>\n",
       "      <td>7h 25m</td>\n",
       "      <td>2 stops</td>\n",
       "      <td>No info</td>\n",
       "      <td>7662</td>\n",
       "    </tr>\n",
       "    <tr>\n",
       "      <th>2</th>\n",
       "      <td>Jet Airways</td>\n",
       "      <td>9/06/2019</td>\n",
       "      <td>Delhi</td>\n",
       "      <td>Cochin</td>\n",
       "      <td>DEL → LKO → BOM → COK</td>\n",
       "      <td>09:25</td>\n",
       "      <td>04:25 10 Jun</td>\n",
       "      <td>19h</td>\n",
       "      <td>2 stops</td>\n",
       "      <td>No info</td>\n",
       "      <td>13882</td>\n",
       "    </tr>\n",
       "    <tr>\n",
       "      <th>3</th>\n",
       "      <td>IndiGo</td>\n",
       "      <td>12/05/2019</td>\n",
       "      <td>Kolkata</td>\n",
       "      <td>Banglore</td>\n",
       "      <td>CCU → NAG → BLR</td>\n",
       "      <td>18:05</td>\n",
       "      <td>23:30</td>\n",
       "      <td>5h 25m</td>\n",
       "      <td>1 stop</td>\n",
       "      <td>No info</td>\n",
       "      <td>6218</td>\n",
       "    </tr>\n",
       "    <tr>\n",
       "      <th>4</th>\n",
       "      <td>IndiGo</td>\n",
       "      <td>01/03/2019</td>\n",
       "      <td>Banglore</td>\n",
       "      <td>New Delhi</td>\n",
       "      <td>BLR → NAG → DEL</td>\n",
       "      <td>16:50</td>\n",
       "      <td>21:35</td>\n",
       "      <td>4h 45m</td>\n",
       "      <td>1 stop</td>\n",
       "      <td>No info</td>\n",
       "      <td>13302</td>\n",
       "    </tr>\n",
       "  </tbody>\n",
       "</table>\n",
       "</div>"
      ],
      "text/plain": [
       "       Airline Date_of_Journey    Source Destination                  Route  \\\n",
       "0       IndiGo      24/03/2019  Banglore   New Delhi              BLR → DEL   \n",
       "1    Air India       1/05/2019   Kolkata    Banglore  CCU → IXR → BBI → BLR   \n",
       "2  Jet Airways       9/06/2019     Delhi      Cochin  DEL → LKO → BOM → COK   \n",
       "3       IndiGo      12/05/2019   Kolkata    Banglore        CCU → NAG → BLR   \n",
       "4       IndiGo      01/03/2019  Banglore   New Delhi        BLR → NAG → DEL   \n",
       "\n",
       "  Dep_Time  Arrival_Time Duration Total_Stops Additional_Info  Price  \n",
       "0    22:20  01:10 22 Mar   2h 50m    non-stop         No info   3897  \n",
       "1    05:50         13:15   7h 25m     2 stops         No info   7662  \n",
       "2    09:25  04:25 10 Jun      19h     2 stops         No info  13882  \n",
       "3    18:05         23:30   5h 25m      1 stop         No info   6218  \n",
       "4    16:50         21:35   4h 45m      1 stop         No info  13302  "
      ]
     },
     "execution_count": 2,
     "metadata": {},
     "output_type": "execute_result"
    }
   ],
   "source": [
    "# Reading the dataset\n",
    "# the data is in excel format\n",
    "\n",
    "df=pd.read_excel(r\"C:\\Users\\Admin\\Downloads\\datasets_140442_330428_Data_Train.xlsx\")\n",
    "df.head()"
   ]
  },
  {
   "cell_type": "code",
   "execution_count": 3,
   "metadata": {},
   "outputs": [
    {
     "name": "stdout",
     "output_type": "stream",
     "text": [
      "Shape of the dataset:  (10683, 11)\n"
     ]
    }
   ],
   "source": [
    "# looking at the shape of the dataset\n",
    "\n",
    "print(\"Shape of the dataset: \",df.shape)"
   ]
  },
  {
   "cell_type": "code",
   "execution_count": 4,
   "metadata": {},
   "outputs": [
    {
     "name": "stdout",
     "output_type": "stream",
     "text": [
      "<class 'pandas.core.frame.DataFrame'>\n",
      "RangeIndex: 10683 entries, 0 to 10682\n",
      "Data columns (total 11 columns):\n",
      "Airline            10683 non-null object\n",
      "Date_of_Journey    10683 non-null object\n",
      "Source             10683 non-null object\n",
      "Destination        10683 non-null object\n",
      "Route              10682 non-null object\n",
      "Dep_Time           10683 non-null object\n",
      "Arrival_Time       10683 non-null object\n",
      "Duration           10683 non-null object\n",
      "Total_Stops        10682 non-null object\n",
      "Additional_Info    10683 non-null object\n",
      "Price              10683 non-null int64\n",
      "dtypes: int64(1), object(10)\n",
      "memory usage: 918.1+ KB\n",
      "The info of the dataset None\n"
     ]
    }
   ],
   "source": [
    "# Checking the info\n",
    "\n",
    "print(\"The info of the dataset\",df.info())"
   ]
  },
  {
   "cell_type": "code",
   "execution_count": 5,
   "metadata": {},
   "outputs": [],
   "source": [
    "# only price is int value rest all are object"
   ]
  },
  {
   "cell_type": "markdown",
   "metadata": {},
   "source": [
    "# EDA"
   ]
  },
  {
   "cell_type": "code",
   "execution_count": 6,
   "metadata": {},
   "outputs": [
    {
     "data": {
      "text/plain": [
       "<matplotlib.axes._subplots.AxesSubplot at 0x23ab5e3fd30>"
      ]
     },
     "execution_count": 6,
     "metadata": {},
     "output_type": "execute_result"
    },
    {
     "data": {
      "image/png": "[encoded data removed]",
      "text/plain": [
       "<Figure size 432x288 with 1 Axes>"
      ]
     },
     "metadata": {
      "needs_background": "light"
     },
     "output_type": "display_data"
    }
   ],
   "source": [
    "# checking for missing values\n",
    "\n",
    "missing_val=df.isnull().sum()\n",
    "missing_val=missing_val[missing_val>0]\n",
    "missing_val.sort_values(ascending=False).plot(kind='barh')"
   ]
  },
  {
   "cell_type": "code",
   "execution_count": 7,
   "metadata": {},
   "outputs": [
    {
     "data": {
      "text/html": [
       "<div>\n",
       "<style scoped>\n",
       "    .dataframe tbody tr th:only-of-type {\n",
       "        vertical-align: middle;\n",
       "    }\n",
       "\n",
       "    .dataframe tbody tr th {\n",
       "        vertical-align: top;\n",
       "    }\n",
       "\n",
       "    .dataframe thead th {\n",
       "        text-align: right;\n",
       "    }\n",
       "</style>\n",
       "<table border=\"1\" class=\"dataframe\">\n",
       "  <thead>\n",
       "    <tr style=\"text-align: right;\">\n",
       "      <th></th>\n",
       "      <th>Airline</th>\n",
       "      <th>Date_of_Journey</th>\n",
       "      <th>Source</th>\n",
       "      <th>Destination</th>\n",
       "      <th>Route</th>\n",
       "      <th>Dep_Time</th>\n",
       "      <th>Arrival_Time</th>\n",
       "      <th>Duration</th>\n",
       "      <th>Total_Stops</th>\n",
       "      <th>Additional_Info</th>\n",
       "      <th>Price</th>\n",
       "    </tr>\n",
       "  </thead>\n",
       "  <tbody>\n",
       "    <tr>\n",
       "      <th>9039</th>\n",
       "      <td>Air India</td>\n",
       "      <td>6/05/2019</td>\n",
       "      <td>Delhi</td>\n",
       "      <td>Cochin</td>\n",
       "      <td>NaN</td>\n",
       "      <td>09:45</td>\n",
       "      <td>09:25 07 May</td>\n",
       "      <td>23h 40m</td>\n",
       "      <td>NaN</td>\n",
       "      <td>No info</td>\n",
       "      <td>7480</td>\n",
       "    </tr>\n",
       "  </tbody>\n",
       "</table>\n",
       "</div>"
      ],
      "text/plain": [
       "        Airline Date_of_Journey Source Destination Route Dep_Time  \\\n",
       "9039  Air India       6/05/2019  Delhi      Cochin   NaN    09:45   \n",
       "\n",
       "      Arrival_Time Duration Total_Stops Additional_Info  Price  \n",
       "9039  09:25 07 May  23h 40m         NaN         No info   7480  "
      ]
     },
     "execution_count": 7,
     "metadata": {},
     "output_type": "execute_result"
    }
   ],
   "source": [
    "# retrieving the missing row\n",
    "df[df['Route'].isnull()]"
   ]
  },
  {
   "cell_type": "code",
   "execution_count": 8,
   "metadata": {},
   "outputs": [],
   "source": [
    "# Route and total stops has missing values in the same row. the row can be dropped as no more information loss"
   ]
  },
  {
   "cell_type": "code",
   "execution_count": 9,
   "metadata": {},
   "outputs": [],
   "source": [
    "# dropping the missing rows\n",
    "df.drop(9039,inplace=True)"
   ]
  },
  {
   "cell_type": "code",
   "execution_count": 10,
   "metadata": {},
   "outputs": [
    {
     "data": {
      "text/plain": [
       "Airline            0\n",
       "Date_of_Journey    0\n",
       "Source             0\n",
       "Destination        0\n",
       "Route              0\n",
       "Dep_Time           0\n",
       "Arrival_Time       0\n",
       "Duration           0\n",
       "Total_Stops        0\n",
       "Additional_Info    0\n",
       "Price              0\n",
       "dtype: int64"
      ]
     },
     "execution_count": 10,
     "metadata": {},
     "output_type": "execute_result"
    }
   ],
   "source": [
    "df.isnull().sum()"
   ]
  },
  {
   "cell_type": "code",
   "execution_count": 11,
   "metadata": {},
   "outputs": [],
   "source": [
    "# The dataset has no missing values"
   ]
  },
  {
   "cell_type": "code",
   "execution_count": 12,
   "metadata": {},
   "outputs": [],
   "source": [
    "# Date_of_journey, dep_time,arriavaltime,Duration should be converted to datatime"
   ]
  },
  {
   "cell_type": "code",
   "execution_count": 13,
   "metadata": {},
   "outputs": [
    {
     "data": {
      "text/plain": [
       "Index(['Airline', 'Date_of_Journey', 'Source', 'Destination', 'Route',\n",
       "       'Dep_Time', 'Arrival_Time', 'Duration', 'Total_Stops',\n",
       "       'Additional_Info', 'Price'],\n",
       "      dtype='object')"
      ]
     },
     "execution_count": 13,
     "metadata": {},
     "output_type": "execute_result"
    }
   ],
   "source": [
    "df.columns"
   ]
  },
  {
   "cell_type": "code",
   "execution_count": 14,
   "metadata": {},
   "outputs": [
    {
     "data": {
      "text/plain": [
       "<matplotlib.axes._subplots.AxesSubplot at 0x23aba986668>"
      ]
     },
     "execution_count": 14,
     "metadata": {},
     "output_type": "execute_result"
    },
    {
     "data": {
      "image/png": "[encoded data removed]",
      "text/plain": [
       "<Figure size 432x288 with 1 Axes>"
      ]
     },
     "metadata": {
      "needs_background": "light"
     },
     "output_type": "display_data"
    }
   ],
   "source": [
    "sns.distplot(df.Price,bins=20,kde=False)"
   ]
  },
  {
   "cell_type": "code",
   "execution_count": 15,
   "metadata": {},
   "outputs": [],
   "source": [
    "# The price is slightly skewed"
   ]
  },
  {
   "cell_type": "code",
   "execution_count": 16,
   "metadata": {},
   "outputs": [
    {
     "name": "stdout",
     "output_type": "stream",
     "text": [
      "Jet Airways                          3849\n",
      "IndiGo                               2053\n",
      "Air India                            1751\n",
      "Multiple carriers                    1196\n",
      "SpiceJet                              818\n",
      "Vistara                               479\n",
      "Air Asia                              319\n",
      "GoAir                                 194\n",
      "Multiple carriers Premium economy      13\n",
      "Jet Airways Business                    6\n",
      "Vistara Premium economy                 3\n",
      "Trujet                                  1\n",
      "Name: Airline, dtype: int64\n",
      "*****************************************************************************************************************************\n"
     ]
    },
    {
     "data": {
      "text/plain": [
       "<matplotlib.axes._subplots.AxesSubplot at 0x23abac7b2b0>"
      ]
     },
     "execution_count": 16,
     "metadata": {},
     "output_type": "execute_result"
    },
    {
     "data": {
      "image/png": "[encoded data removed]",
      "text/plain": [
       "<Figure size 576x432 with 1 Axes>"
      ]
     },
     "metadata": {
      "needs_background": "light"
     },
     "output_type": "display_data"
    }
   ],
   "source": [
    "print(df['Airline'].value_counts())\n",
    "print(\"*\"*125)\n",
    "plt.figure(figsize=(8,6))\n",
    "sns.countplot(y=df.Airline.sort_values())"
   ]
  },
  {
   "cell_type": "code",
   "execution_count": 17,
   "metadata": {},
   "outputs": [
    {
     "name": "stdout",
     "output_type": "stream",
     "text": [
      "Source    Airline                          \n",
      "Banglore  Jet Airways                           788\n",
      "          IndiGo                                523\n",
      "          Air India                             332\n",
      "          Vistara                               185\n",
      "          SpiceJet                              181\n",
      "          GoAir                                  93\n",
      "          Air Asia                               89\n",
      "          Jet Airways Business                    4\n",
      "          Vistara Premium economy                 2\n",
      "Chennai   IndiGo                                184\n",
      "          SpiceJet                              128\n",
      "          Vistara                                43\n",
      "          Air India                              25\n",
      "          Vistara Premium economy                 1\n",
      "Delhi     Jet Airways                          1586\n",
      "          Multiple carriers                    1196\n",
      "          Air India                             746\n",
      "          IndiGo                                705\n",
      "          SpiceJet                               87\n",
      "          Air Asia                               80\n",
      "          GoAir                                  76\n",
      "          Vistara                                45\n",
      "          Multiple carriers Premium economy      13\n",
      "          Jet Airways Business                    2\n",
      "Kolkata   Jet Airways                          1256\n",
      "          Air India                             512\n",
      "          IndiGo                                445\n",
      "          SpiceJet                              300\n",
      "          Vistara                               183\n",
      "          Air Asia                              150\n",
      "          GoAir                                  25\n",
      "Mumbai    Jet Airways                           219\n",
      "          IndiGo                                196\n",
      "          Air India                             136\n",
      "          SpiceJet                              122\n",
      "          Vistara                                23\n",
      "          Trujet                                  1\n",
      "Name: Airline, dtype: int64\n"
     ]
    }
   ],
   "source": [
    "# Airlines available in different sources\n",
    "print(df.groupby(\"Source\")[\"Airline\"].value_counts())"
   ]
  },
  {
   "cell_type": "code",
   "execution_count": 18,
   "metadata": {},
   "outputs": [
    {
     "data": {
      "text/plain": [
       "Text(0.5, 1.0, 'Different airline available in different sources')"
      ]
     },
     "execution_count": 18,
     "metadata": {},
     "output_type": "execute_result"
    },
    {
     "data": {
      "image/png": "[encoded data removed]",
      "text/plain": [
       "<Figure size 720x720 with 1 Axes>"
      ]
     },
     "metadata": {
      "needs_background": "light"
     },
     "output_type": "display_data"
    }
   ],
   "source": [
    "plt.figure(figsize=(10,10))\n",
    "sns.countplot(y='Source',hue='Airline',data=df)\n",
    "plt.title(\"Different airline available in different sources\")"
   ]
  },
  {
   "cell_type": "code",
   "execution_count": 19,
   "metadata": {},
   "outputs": [
    {
     "name": "stdout",
     "output_type": "stream",
     "text": [
      "Source\n",
      "Banglore     6121\n",
      "Chennai      3850\n",
      "Delhi       10262\n",
      "Kolkata      9345\n",
      "Mumbai       3342\n",
      "Name: Price, dtype: int64\n",
      "____________________________________________________________________________________________________\n"
     ]
    },
    {
     "data": {
      "image/png": "[encoded data removed]",
      "text/plain": [
       "<Figure size 1296x432 with 1 Axes>"
      ]
     },
     "metadata": {
      "needs_background": "light"
     },
     "output_type": "display_data"
    }
   ],
   "source": [
    "#Price v/s source\n",
    "print(df.groupby('Source')['Price'].median())\n",
    "print(\"_\"*100)\n",
    "sns.catplot(y = \"Price\", x = \"Source\", data = df.sort_values(\"Price\", ascending = False), kind=\"boxen\", height = 6, aspect = 3)\n",
    "plt.show()"
   ]
  },
  {
   "cell_type": "code",
   "execution_count": 20,
   "metadata": {},
   "outputs": [
    {
     "name": "stdout",
     "output_type": "stream",
     "text": [
      "Airline\n",
      "Jet Airways Business                 54747\n",
      "Jet Airways                          11467\n",
      "Multiple carriers Premium economy    11269\n",
      "Multiple carriers                    10197\n",
      "Air India                             9443\n",
      "Vistara Premium economy               9125\n",
      "Vistara                               7980\n",
      "Air Asia                              5162\n",
      "GoAir                                 5135\n",
      "IndiGo                                5000\n",
      "Trujet                                4140\n",
      "SpiceJet                              3873\n",
      "Name: Price, dtype: int64\n",
      "____________________________________________________________________________________________________\n"
     ]
    },
    {
     "data": {
      "image/png": "[encoded data removed]",
      "text/plain": [
       "<Figure size 1296x432 with 1 Axes>"
      ]
     },
     "metadata": {
      "needs_background": "light"
     },
     "output_type": "display_data"
    }
   ],
   "source": [
    "# Airline v/s price\n",
    "print(df.groupby('Airline')['Price'].median().sort_values(ascending=False))\n",
    "print(\"_\"*100)\n",
    "sns.catplot(y = \"Price\", x = \"Airline\", data = df.sort_values(\"Price\", ascending = False), kind=\"boxen\", height = 6, aspect = 3)\n",
    "plt.show()"
   ]
  },
  {
   "cell_type": "code",
   "execution_count": 21,
   "metadata": {},
   "outputs": [],
   "source": [
    "# Almost all the airlines has similar median"
   ]
  },
  {
   "cell_type": "code",
   "execution_count": 22,
   "metadata": {},
   "outputs": [
    {
     "name": "stdout",
     "output_type": "stream",
     "text": [
      "The categoriacal columns in the dataset ['Airline', 'Source', 'Destination', 'Route', 'Total_Stops', 'Additional_Info']\n",
      "_____________________________________________________________________________________________________________________________\n"
     ]
    },
    {
     "data": {
      "text/html": [
       "<div>\n",
       "<style scoped>\n",
       "    .dataframe tbody tr th:only-of-type {\n",
       "        vertical-align: middle;\n",
       "    }\n",
       "\n",
       "    .dataframe tbody tr th {\n",
       "        vertical-align: top;\n",
       "    }\n",
       "\n",
       "    .dataframe thead th {\n",
       "        text-align: right;\n",
       "    }\n",
       "</style>\n",
       "<table border=\"1\" class=\"dataframe\">\n",
       "  <thead>\n",
       "    <tr style=\"text-align: right;\">\n",
       "      <th></th>\n",
       "      <th>Airline</th>\n",
       "      <th>Source</th>\n",
       "      <th>Destination</th>\n",
       "      <th>Route</th>\n",
       "      <th>Total_Stops</th>\n",
       "      <th>Additional_Info</th>\n",
       "    </tr>\n",
       "  </thead>\n",
       "  <tbody>\n",
       "    <tr>\n",
       "      <th>0</th>\n",
       "      <td>IndiGo</td>\n",
       "      <td>Banglore</td>\n",
       "      <td>New Delhi</td>\n",
       "      <td>BLR → DEL</td>\n",
       "      <td>non-stop</td>\n",
       "      <td>No info</td>\n",
       "    </tr>\n",
       "    <tr>\n",
       "      <th>1</th>\n",
       "      <td>Air India</td>\n",
       "      <td>Kolkata</td>\n",
       "      <td>Banglore</td>\n",
       "      <td>CCU → IXR → BBI → BLR</td>\n",
       "      <td>2 stops</td>\n",
       "      <td>No info</td>\n",
       "    </tr>\n",
       "    <tr>\n",
       "      <th>2</th>\n",
       "      <td>Jet Airways</td>\n",
       "      <td>Delhi</td>\n",
       "      <td>Cochin</td>\n",
       "      <td>DEL → LKO → BOM → COK</td>\n",
       "      <td>2 stops</td>\n",
       "      <td>No info</td>\n",
       "    </tr>\n",
       "    <tr>\n",
       "      <th>3</th>\n",
       "      <td>IndiGo</td>\n",
       "      <td>Kolkata</td>\n",
       "      <td>Banglore</td>\n",
       "      <td>CCU → NAG → BLR</td>\n",
       "      <td>1 stop</td>\n",
       "      <td>No info</td>\n",
       "    </tr>\n",
       "    <tr>\n",
       "      <th>4</th>\n",
       "      <td>IndiGo</td>\n",
       "      <td>Banglore</td>\n",
       "      <td>New Delhi</td>\n",
       "      <td>BLR → NAG → DEL</td>\n",
       "      <td>1 stop</td>\n",
       "      <td>No info</td>\n",
       "    </tr>\n",
       "  </tbody>\n",
       "</table>\n",
       "</div>"
      ],
      "text/plain": [
       "       Airline    Source Destination                  Route Total_Stops  \\\n",
       "0       IndiGo  Banglore   New Delhi              BLR → DEL    non-stop   \n",
       "1    Air India   Kolkata    Banglore  CCU → IXR → BBI → BLR     2 stops   \n",
       "2  Jet Airways     Delhi      Cochin  DEL → LKO → BOM → COK     2 stops   \n",
       "3       IndiGo   Kolkata    Banglore        CCU → NAG → BLR      1 stop   \n",
       "4       IndiGo  Banglore   New Delhi        BLR → NAG → DEL      1 stop   \n",
       "\n",
       "  Additional_Info  \n",
       "0         No info  \n",
       "1         No info  \n",
       "2         No info  \n",
       "3         No info  \n",
       "4         No info  "
      ]
     },
     "execution_count": 22,
     "metadata": {},
     "output_type": "execute_result"
    }
   ],
   "source": [
    "# Exploring categorical variable\n",
    "\n",
    "cat_col=[x for x in df.columns if df[x].dtypes==\"O\"and x not in ['Date_of_Journey','Dep_Time', 'Arrival_Time', 'Duration']]\n",
    "print(\"The categoriacal columns in the dataset\",cat_col)\n",
    "print(\"_\"*125)\n",
    "df[cat_col].head()"
   ]
  },
  {
   "cell_type": "code",
   "execution_count": 23,
   "metadata": {},
   "outputs": [
    {
     "data": {
      "text/html": [
       "<div>\n",
       "<style scoped>\n",
       "    .dataframe tbody tr th:only-of-type {\n",
       "        vertical-align: middle;\n",
       "    }\n",
       "\n",
       "    .dataframe tbody tr th {\n",
       "        vertical-align: top;\n",
       "    }\n",
       "\n",
       "    .dataframe thead th {\n",
       "        text-align: right;\n",
       "    }\n",
       "</style>\n",
       "<table border=\"1\" class=\"dataframe\">\n",
       "  <thead>\n",
       "    <tr style=\"text-align: right;\">\n",
       "      <th></th>\n",
       "      <th>Airline</th>\n",
       "      <th>Date_of_Journey</th>\n",
       "      <th>Source</th>\n",
       "      <th>Destination</th>\n",
       "      <th>Route</th>\n",
       "      <th>Dep_Time</th>\n",
       "      <th>Arrival_Time</th>\n",
       "      <th>Duration</th>\n",
       "      <th>Total_Stops</th>\n",
       "      <th>Additional_Info</th>\n",
       "      <th>Price</th>\n",
       "    </tr>\n",
       "  </thead>\n",
       "  <tbody>\n",
       "    <tr>\n",
       "      <th>0</th>\n",
       "      <td>IndiGo</td>\n",
       "      <td>24/03/2019</td>\n",
       "      <td>Banglore</td>\n",
       "      <td>New Delhi</td>\n",
       "      <td>BLR → DEL</td>\n",
       "      <td>22:20</td>\n",
       "      <td>01:10 22 Mar</td>\n",
       "      <td>2h 50m</td>\n",
       "      <td>non-stop</td>\n",
       "      <td>No info</td>\n",
       "      <td>3897</td>\n",
       "    </tr>\n",
       "    <tr>\n",
       "      <th>1</th>\n",
       "      <td>Air India</td>\n",
       "      <td>1/05/2019</td>\n",
       "      <td>Kolkata</td>\n",
       "      <td>Banglore</td>\n",
       "      <td>CCU → IXR → BBI → BLR</td>\n",
       "      <td>05:50</td>\n",
       "      <td>13:15</td>\n",
       "      <td>7h 25m</td>\n",
       "      <td>2 stops</td>\n",
       "      <td>No info</td>\n",
       "      <td>7662</td>\n",
       "    </tr>\n",
       "    <tr>\n",
       "      <th>2</th>\n",
       "      <td>Jet Airways</td>\n",
       "      <td>9/06/2019</td>\n",
       "      <td>Delhi</td>\n",
       "      <td>Cochin</td>\n",
       "      <td>DEL → LKO → BOM → COK</td>\n",
       "      <td>09:25</td>\n",
       "      <td>04:25 10 Jun</td>\n",
       "      <td>19h</td>\n",
       "      <td>2 stops</td>\n",
       "      <td>No info</td>\n",
       "      <td>13882</td>\n",
       "    </tr>\n",
       "    <tr>\n",
       "      <th>3</th>\n",
       "      <td>IndiGo</td>\n",
       "      <td>12/05/2019</td>\n",
       "      <td>Kolkata</td>\n",
       "      <td>Banglore</td>\n",
       "      <td>CCU → NAG → BLR</td>\n",
       "      <td>18:05</td>\n",
       "      <td>23:30</td>\n",
       "      <td>5h 25m</td>\n",
       "      <td>1 stop</td>\n",
       "      <td>No info</td>\n",
       "      <td>6218</td>\n",
       "    </tr>\n",
       "    <tr>\n",
       "      <th>4</th>\n",
       "      <td>IndiGo</td>\n",
       "      <td>01/03/2019</td>\n",
       "      <td>Banglore</td>\n",
       "      <td>New Delhi</td>\n",
       "      <td>BLR → NAG → DEL</td>\n",
       "      <td>16:50</td>\n",
       "      <td>21:35</td>\n",
       "      <td>4h 45m</td>\n",
       "      <td>1 stop</td>\n",
       "      <td>No info</td>\n",
       "      <td>13302</td>\n",
       "    </tr>\n",
       "  </tbody>\n",
       "</table>\n",
       "</div>"
      ],
      "text/plain": [
       "       Airline Date_of_Journey    Source Destination                  Route  \\\n",
       "0       IndiGo      24/03/2019  Banglore   New Delhi              BLR → DEL   \n",
       "1    Air India       1/05/2019   Kolkata    Banglore  CCU → IXR → BBI → BLR   \n",
       "2  Jet Airways       9/06/2019     Delhi      Cochin  DEL → LKO → BOM → COK   \n",
       "3       IndiGo      12/05/2019   Kolkata    Banglore        CCU → NAG → BLR   \n",
       "4       IndiGo      01/03/2019  Banglore   New Delhi        BLR → NAG → DEL   \n",
       "\n",
       "  Dep_Time  Arrival_Time Duration Total_Stops Additional_Info  Price  \n",
       "0    22:20  01:10 22 Mar   2h 50m    non-stop         No info   3897  \n",
       "1    05:50         13:15   7h 25m     2 stops         No info   7662  \n",
       "2    09:25  04:25 10 Jun      19h     2 stops         No info  13882  \n",
       "3    18:05         23:30   5h 25m      1 stop         No info   6218  \n",
       "4    16:50         21:35   4h 45m      1 stop         No info  13302  "
      ]
     },
     "execution_count": 23,
     "metadata": {},
     "output_type": "execute_result"
    }
   ],
   "source": [
    "df.head()"
   ]
  },
  {
   "cell_type": "code",
   "execution_count": 24,
   "metadata": {},
   "outputs": [],
   "source": [
    "# dealing with Date_of_journey, dep_time,arriavaltime,Duration \n",
    "# converting date_of_journey column into datetime\n",
    "\n",
    "df['Date_of_Journey']=pd.to_datetime(df['Date_of_Journey'],format='%d/%m/%Y')\n",
    "\n",
    "#Extracting day and month from date_of_journey column\n",
    "\n",
    "df['day_of_journey']=pd.to_datetime(df['Date_of_Journey'],format=\"%d/%m/%Y\").dt.day\n",
    "df['month_of_journey']=pd.to_datetime(df['Date_of_Journey'],format=\"%d/%m/%Y\").dt.month"
   ]
  },
  {
   "cell_type": "code",
   "execution_count": 25,
   "metadata": {},
   "outputs": [],
   "source": [
    "# dealing with dep_time column\n",
    "# extracting hours and minute from dep_time column\n",
    "\n",
    "df['Dep_hour']=pd.to_datetime(df['Dep_Time']).dt.hour\n",
    "df['Dep_min']=pd.to_datetime(df['Dep_Time']).dt.minute"
   ]
  },
  {
   "cell_type": "code",
   "execution_count": 26,
   "metadata": {},
   "outputs": [],
   "source": [
    "# Now Extracting hours and minute from Arrival_Time\n",
    "\n",
    "df['Arrival_hour']=pd.to_datetime(df['Arrival_Time']).dt.hour\n",
    "df['Arrival_min']=pd.to_datetime(df['Arrival_Time']).dt.minute"
   ]
  },
  {
   "cell_type": "code",
   "execution_count": 27,
   "metadata": {},
   "outputs": [],
   "source": [
    "# handling duration column\n",
    "# converting duration column into list\n",
    "duration = list(df[\"Duration\"])\n",
    "\n",
    "for i in range(len(duration)):\n",
    "    if len(duration[i].split()) != 2:    # Check if duration contains only hour or mins\n",
    "        if \"h\" in duration[i]:\n",
    "            duration[i] = duration[i].strip() + \" 0m\"   # Adds 0 minute\n",
    "        else:\n",
    "            duration[i] = \"0h \" + duration[i]           # Adds 0 hour\n",
    "\n",
    "dur_hours = []\n",
    "dur_mins = []\n",
    "for i in range(len(duration)):\n",
    "    dur_hours.append(int(duration[i].split(sep = \"h\")[0]))    # Extract hours from duration\n",
    "    dur_mins.append(int(duration[i].split(sep = \"m\")[0].split()[-1]))   # Extracts only minutes from duration"
   ]
  },
  {
   "cell_type": "code",
   "execution_count": 28,
   "metadata": {},
   "outputs": [],
   "source": [
    "df[\"dur_hour\"]=dur_hours\n",
    "df['dur_mins']=dur_mins"
   ]
  },
  {
   "cell_type": "code",
   "execution_count": 29,
   "metadata": {},
   "outputs": [],
   "source": [
    "# since we have extracted many information from Date_of_journey, dep_time,arriavaltime,Duration \n",
    "# those columns can be removed from the dataset\n",
    "\n",
    "df.drop(['Date_of_Journey','Dep_Time', 'Arrival_Time', 'Duration'],axis=1,inplace=True)"
   ]
  },
  {
   "cell_type": "code",
   "execution_count": 30,
   "metadata": {},
   "outputs": [
    {
     "data": {
      "text/html": [
       "<div>\n",
       "<style scoped>\n",
       "    .dataframe tbody tr th:only-of-type {\n",
       "        vertical-align: middle;\n",
       "    }\n",
       "\n",
       "    .dataframe tbody tr th {\n",
       "        vertical-align: top;\n",
       "    }\n",
       "\n",
       "    .dataframe thead th {\n",
       "        text-align: right;\n",
       "    }\n",
       "</style>\n",
       "<table border=\"1\" class=\"dataframe\">\n",
       "  <thead>\n",
       "    <tr style=\"text-align: right;\">\n",
       "      <th></th>\n",
       "      <th>Airline</th>\n",
       "      <th>Source</th>\n",
       "      <th>Destination</th>\n",
       "      <th>Route</th>\n",
       "      <th>Total_Stops</th>\n",
       "      <th>Additional_Info</th>\n",
       "    </tr>\n",
       "  </thead>\n",
       "  <tbody>\n",
       "    <tr>\n",
       "      <th>0</th>\n",
       "      <td>IndiGo</td>\n",
       "      <td>Banglore</td>\n",
       "      <td>New Delhi</td>\n",
       "      <td>BLR → DEL</td>\n",
       "      <td>non-stop</td>\n",
       "      <td>No info</td>\n",
       "    </tr>\n",
       "    <tr>\n",
       "      <th>1</th>\n",
       "      <td>Air India</td>\n",
       "      <td>Kolkata</td>\n",
       "      <td>Banglore</td>\n",
       "      <td>CCU → IXR → BBI → BLR</td>\n",
       "      <td>2 stops</td>\n",
       "      <td>No info</td>\n",
       "    </tr>\n",
       "    <tr>\n",
       "      <th>2</th>\n",
       "      <td>Jet Airways</td>\n",
       "      <td>Delhi</td>\n",
       "      <td>Cochin</td>\n",
       "      <td>DEL → LKO → BOM → COK</td>\n",
       "      <td>2 stops</td>\n",
       "      <td>No info</td>\n",
       "    </tr>\n",
       "    <tr>\n",
       "      <th>3</th>\n",
       "      <td>IndiGo</td>\n",
       "      <td>Kolkata</td>\n",
       "      <td>Banglore</td>\n",
       "      <td>CCU → NAG → BLR</td>\n",
       "      <td>1 stop</td>\n",
       "      <td>No info</td>\n",
       "    </tr>\n",
       "    <tr>\n",
       "      <th>4</th>\n",
       "      <td>IndiGo</td>\n",
       "      <td>Banglore</td>\n",
       "      <td>New Delhi</td>\n",
       "      <td>BLR → NAG → DEL</td>\n",
       "      <td>1 stop</td>\n",
       "      <td>No info</td>\n",
       "    </tr>\n",
       "  </tbody>\n",
       "</table>\n",
       "</div>"
      ],
      "text/plain": [
       "       Airline    Source Destination                  Route Total_Stops  \\\n",
       "0       IndiGo  Banglore   New Delhi              BLR → DEL    non-stop   \n",
       "1    Air India   Kolkata    Banglore  CCU → IXR → BBI → BLR     2 stops   \n",
       "2  Jet Airways     Delhi      Cochin  DEL → LKO → BOM → COK     2 stops   \n",
       "3       IndiGo   Kolkata    Banglore        CCU → NAG → BLR      1 stop   \n",
       "4       IndiGo  Banglore   New Delhi        BLR → NAG → DEL      1 stop   \n",
       "\n",
       "  Additional_Info  \n",
       "0         No info  \n",
       "1         No info  \n",
       "2         No info  \n",
       "3         No info  \n",
       "4         No info  "
      ]
     },
     "execution_count": 30,
     "metadata": {},
     "output_type": "execute_result"
    }
   ],
   "source": [
    "# Now dealing with categorical columns\n",
    "\n",
    "df[cat_col].head()"
   ]
  },
  {
   "cell_type": "code",
   "execution_count": 31,
   "metadata": {},
   "outputs": [
    {
     "name": "stdout",
     "output_type": "stream",
     "text": [
      "Number of uniques in  Airline 12\n",
      "Number of uniques in  Source 5\n",
      "Number of uniques in  Destination 6\n",
      "Number of uniques in  Route 128\n",
      "Number of uniques in  Total_Stops 5\n",
      "Number of uniques in  Additional_Info 10\n"
     ]
    }
   ],
   "source": [
    "# checking the nunique for each categorical column\n",
    "\n",
    "for col in cat_col:\n",
    "    print(\"Number of uniques in \",col,df[col].nunique())\n"
   ]
  },
  {
   "cell_type": "code",
   "execution_count": 32,
   "metadata": {},
   "outputs": [
    {
     "name": "stdout",
     "output_type": "stream",
     "text": [
      "Value counts in Airline\n",
      "Jet Airways                          3849\n",
      "IndiGo                               2053\n",
      "Air India                            1751\n",
      "Multiple carriers                    1196\n",
      "SpiceJet                              818\n",
      "Vistara                               479\n",
      "Air Asia                              319\n",
      "GoAir                                 194\n",
      "Multiple carriers Premium economy      13\n",
      "Jet Airways Business                    6\n",
      "Vistara Premium economy                 3\n",
      "Trujet                                  1\n",
      "Name: Airline, dtype: int64\n",
      "**********************************************************************\n",
      "Value counts in Source\n",
      "Delhi       4536\n",
      "Kolkata     2871\n",
      "Banglore    2197\n",
      "Mumbai       697\n",
      "Chennai      381\n",
      "Name: Source, dtype: int64\n",
      "**********************************************************************\n",
      "Value counts in Destination\n",
      "Cochin       4536\n",
      "Banglore     2871\n",
      "Delhi        1265\n",
      "New Delhi     932\n",
      "Hyderabad     697\n",
      "Kolkata       381\n",
      "Name: Destination, dtype: int64\n",
      "**********************************************************************\n",
      "Value counts in Route\n",
      "DEL → BOM → COK                      2376\n",
      "BLR → DEL                            1552\n",
      "CCU → BOM → BLR                       979\n",
      "CCU → BLR                             724\n",
      "BOM → HYD                             621\n",
      "CCU → DEL → BLR                       565\n",
      "BLR → BOM → DEL                       402\n",
      "MAA → CCU                             381\n",
      "DEL → HYD → COK                       326\n",
      "DEL → JAI → BOM → COK                 240\n",
      "DEL → BLR → COK                       232\n",
      "DEL → COK                             213\n",
      "DEL → AMD → BOM → COK                 205\n",
      "DEL → MAA → COK                       146\n",
      "DEL → IDR → BOM → COK                  99\n",
      "DEL → HYD → MAA → COK                  83\n",
      "DEL → NAG → BOM → COK                  71\n",
      "CCU → MAA → BLR                        65\n",
      "DEL → GOI → BOM → COK                  58\n",
      "DEL → HYD → BOM → COK                  56\n",
      "CCU → HYD → BLR                        53\n",
      "DEL → BHO → BOM → COK                  50\n",
      "CCU → BBI → BLR                        50\n",
      "CCU → IXR → DEL → BLR                  46\n",
      "DEL → CCU → BOM → COK                  44\n",
      "DEL → PNQ → COK                        42\n",
      "CCU → BBI → BOM → BLR                  42\n",
      "DEL → LKO → BOM → COK                  41\n",
      "CCU → GAU → BLR                        41\n",
      "DEL → ATQ → BOM → COK                  40\n",
      "                                     ... \n",
      "BLR → TRV → COK → DEL                   2\n",
      "BOM → IDR → DEL → HYD                   2\n",
      "CCU → BBI → IXR → DEL → BLR             2\n",
      "BLR → BOM → IDR → GWL → DEL             2\n",
      "BOM → BDQ → DEL → HYD                   2\n",
      "BLR → CCU → BBI → HYD → DEL             2\n",
      "DEL → DED → BOM → COK                   2\n",
      "BOM → JLR → HYD                         1\n",
      "BOM → JDH → JAI → DEL → HYD             1\n",
      "CCU → IXB → DEL → BLR                   1\n",
      "BLR → HBX → BOM → BHO → DEL             1\n",
      "BOM → COK → MAA → HYD                   1\n",
      "BOM → GOI → HYD                         1\n",
      "CCU → IXZ → MAA → BLR                   1\n",
      "BOM → NDC → HYD                         1\n",
      "CCU → RPR → HYD → BLR                   1\n",
      "BLR → HBX → BOM → AMD → DEL             1\n",
      "BOM → RPR → VTZ → HYD                   1\n",
      "BOM → UDR → DEL → HYD                   1\n",
      "BOM → VNS → DEL → HYD                   1\n",
      "BOM → CCU → HYD                         1\n",
      "BOM → JAI → DEL → HYD                   1\n",
      "CCU → IXA → BLR                         1\n",
      "BLR → CCU → BBI → HYD → VGA → DEL       1\n",
      "CCU → VTZ → BLR                         1\n",
      "BOM → BLR → CCU → BBI → HYD             1\n",
      "BLR → HBX → BOM → NAG → DEL             1\n",
      "BLR → BOM → IXC → DEL                   1\n",
      "BOM → BBI → HYD                         1\n",
      "BOM → DED → DEL → HYD                   1\n",
      "Name: Route, Length: 128, dtype: int64\n",
      "**********************************************************************\n",
      "Value counts in Total_Stops\n",
      "1 stop      5625\n",
      "non-stop    3491\n",
      "2 stops     1520\n",
      "3 stops       45\n",
      "4 stops        1\n",
      "Name: Total_Stops, dtype: int64\n",
      "**********************************************************************\n",
      "Value counts in Additional_Info\n",
      "No info                         8344\n",
      "In-flight meal not included     1982\n",
      "No check-in baggage included     320\n",
      "1 Long layover                    19\n",
      "Change airports                    7\n",
      "Business class                     4\n",
      "No Info                            3\n",
      "Red-eye flight                     1\n",
      "2 Long layover                     1\n",
      "1 Short layover                    1\n",
      "Name: Additional_Info, dtype: int64\n",
      "**********************************************************************\n"
     ]
    }
   ],
   "source": [
    "# checking the nunique and value counts for each categorical column\n",
    "for feature in cat_col:\n",
    "    print(\"Value counts in\",feature)\n",
    "    print(df[feature].value_counts())\n",
    "    print(\"*\"*70)"
   ]
  },
  {
   "cell_type": "code",
   "execution_count": 33,
   "metadata": {},
   "outputs": [],
   "source": [
    "# route can be removed as route information can be extract from source and destination column\n",
    "# Additional_Info can be dropped as it no productive information can be retrieved from it\n",
    "\n",
    "df.drop(['Route','Additional_Info'],axis=1,inplace=True)"
   ]
  },
  {
   "cell_type": "code",
   "execution_count": 34,
   "metadata": {},
   "outputs": [],
   "source": [
    "# dealing with Airline, source,destination and total stops column\n",
    "# airlines, source and destination can be converted into dummies using one hot encoding\n",
    "# totalstops column can be deal with label encoding\n",
    "# lets handle one by one"
   ]
  },
  {
   "cell_type": "code",
   "execution_count": 35,
   "metadata": {},
   "outputs": [],
   "source": [
    "airline=pd.get_dummies(df['Airline'],drop_first=True)\n",
    "source=pd.get_dummies(df['Source'],drop_first=True)\n",
    "destination=pd.get_dummies(df['Destination'],drop_first=True)"
   ]
  },
  {
   "cell_type": "code",
   "execution_count": 36,
   "metadata": {},
   "outputs": [],
   "source": [
    "totalstopsmap={\"non-stop\":0,\n",
    "              '1 stop':1,\n",
    "              '2 stops':2,\n",
    "              '3 stops':3,\n",
    "              '4 stops':4}\n",
    "df['totalstop']=df['Total_Stops'].map(totalstopsmap)"
   ]
  },
  {
   "cell_type": "code",
   "execution_count": 37,
   "metadata": {},
   "outputs": [],
   "source": [
    "# dropping airline, source, destination  and totalstops coulmn as we required no more\n",
    "df.drop(['Airline', 'Source', 'Destination', 'Total_Stops'],axis=1,inplace=True)"
   ]
  },
  {
   "cell_type": "code",
   "execution_count": 38,
   "metadata": {},
   "outputs": [],
   "source": [
    "# concatinating created dummy variables for airline, source, destination coulmn\n",
    "train=pd.concat([df,airline,source,destination],axis=1)"
   ]
  },
  {
   "cell_type": "code",
   "execution_count": 39,
   "metadata": {},
   "outputs": [],
   "source": [
    "# Dealing with test data"
   ]
  },
  {
   "cell_type": "code",
   "execution_count": 40,
   "metadata": {},
   "outputs": [],
   "source": [
    "# cleaning test data\n",
    "# importing test data\n",
    "\n",
    "df1=pd.read_excel(r\"C:\\Users\\Admin\\Downloads\\datasets_140442_330428_Test_set.xlsx\")"
   ]
  },
  {
   "cell_type": "code",
   "execution_count": 41,
   "metadata": {},
   "outputs": [
    {
     "data": {
      "text/html": [
       "<div>\n",
       "<style scoped>\n",
       "    .dataframe tbody tr th:only-of-type {\n",
       "        vertical-align: middle;\n",
       "    }\n",
       "\n",
       "    .dataframe tbody tr th {\n",
       "        vertical-align: top;\n",
       "    }\n",
       "\n",
       "    .dataframe thead th {\n",
       "        text-align: right;\n",
       "    }\n",
       "</style>\n",
       "<table border=\"1\" class=\"dataframe\">\n",
       "  <thead>\n",
       "    <tr style=\"text-align: right;\">\n",
       "      <th></th>\n",
       "      <th>Airline</th>\n",
       "      <th>Date_of_Journey</th>\n",
       "      <th>Source</th>\n",
       "      <th>Destination</th>\n",
       "      <th>Route</th>\n",
       "      <th>Dep_Time</th>\n",
       "      <th>Arrival_Time</th>\n",
       "      <th>Duration</th>\n",
       "      <th>Total_Stops</th>\n",
       "      <th>Additional_Info</th>\n",
       "    </tr>\n",
       "  </thead>\n",
       "  <tbody>\n",
       "    <tr>\n",
       "      <th>0</th>\n",
       "      <td>Jet Airways</td>\n",
       "      <td>6/06/2019</td>\n",
       "      <td>Delhi</td>\n",
       "      <td>Cochin</td>\n",
       "      <td>DEL → BOM → COK</td>\n",
       "      <td>17:30</td>\n",
       "      <td>04:25 07 Jun</td>\n",
       "      <td>10h 55m</td>\n",
       "      <td>1 stop</td>\n",
       "      <td>No info</td>\n",
       "    </tr>\n",
       "    <tr>\n",
       "      <th>1</th>\n",
       "      <td>IndiGo</td>\n",
       "      <td>12/05/2019</td>\n",
       "      <td>Kolkata</td>\n",
       "      <td>Banglore</td>\n",
       "      <td>CCU → MAA → BLR</td>\n",
       "      <td>06:20</td>\n",
       "      <td>10:20</td>\n",
       "      <td>4h</td>\n",
       "      <td>1 stop</td>\n",
       "      <td>No info</td>\n",
       "    </tr>\n",
       "    <tr>\n",
       "      <th>2</th>\n",
       "      <td>Jet Airways</td>\n",
       "      <td>21/05/2019</td>\n",
       "      <td>Delhi</td>\n",
       "      <td>Cochin</td>\n",
       "      <td>DEL → BOM → COK</td>\n",
       "      <td>19:15</td>\n",
       "      <td>19:00 22 May</td>\n",
       "      <td>23h 45m</td>\n",
       "      <td>1 stop</td>\n",
       "      <td>In-flight meal not included</td>\n",
       "    </tr>\n",
       "    <tr>\n",
       "      <th>3</th>\n",
       "      <td>Multiple carriers</td>\n",
       "      <td>21/05/2019</td>\n",
       "      <td>Delhi</td>\n",
       "      <td>Cochin</td>\n",
       "      <td>DEL → BOM → COK</td>\n",
       "      <td>08:00</td>\n",
       "      <td>21:00</td>\n",
       "      <td>13h</td>\n",
       "      <td>1 stop</td>\n",
       "      <td>No info</td>\n",
       "    </tr>\n",
       "    <tr>\n",
       "      <th>4</th>\n",
       "      <td>Air Asia</td>\n",
       "      <td>24/06/2019</td>\n",
       "      <td>Banglore</td>\n",
       "      <td>Delhi</td>\n",
       "      <td>BLR → DEL</td>\n",
       "      <td>23:55</td>\n",
       "      <td>02:45 25 Jun</td>\n",
       "      <td>2h 50m</td>\n",
       "      <td>non-stop</td>\n",
       "      <td>No info</td>\n",
       "    </tr>\n",
       "  </tbody>\n",
       "</table>\n",
       "</div>"
      ],
      "text/plain": [
       "             Airline Date_of_Journey    Source Destination            Route  \\\n",
       "0        Jet Airways       6/06/2019     Delhi      Cochin  DEL → BOM → COK   \n",
       "1             IndiGo      12/05/2019   Kolkata    Banglore  CCU → MAA → BLR   \n",
       "2        Jet Airways      21/05/2019     Delhi      Cochin  DEL → BOM → COK   \n",
       "3  Multiple carriers      21/05/2019     Delhi      Cochin  DEL → BOM → COK   \n",
       "4           Air Asia      24/06/2019  Banglore       Delhi        BLR → DEL   \n",
       "\n",
       "  Dep_Time  Arrival_Time Duration Total_Stops              Additional_Info  \n",
       "0    17:30  04:25 07 Jun  10h 55m      1 stop                      No info  \n",
       "1    06:20         10:20       4h      1 stop                      No info  \n",
       "2    19:15  19:00 22 May  23h 45m      1 stop  In-flight meal not included  \n",
       "3    08:00         21:00      13h      1 stop                      No info  \n",
       "4    23:55  02:45 25 Jun   2h 50m    non-stop                      No info  "
      ]
     },
     "execution_count": 41,
     "metadata": {},
     "output_type": "execute_result"
    }
   ],
   "source": [
    "df1.head()"
   ]
  },
  {
   "cell_type": "code",
   "execution_count": 42,
   "metadata": {},
   "outputs": [
    {
     "data": {
      "text/plain": [
       "Airline            0\n",
       "Date_of_Journey    0\n",
       "Source             0\n",
       "Destination        0\n",
       "Route              0\n",
       "Dep_Time           0\n",
       "Arrival_Time       0\n",
       "Duration           0\n",
       "Total_Stops        0\n",
       "Additional_Info    0\n",
       "dtype: int64"
      ]
     },
     "execution_count": 42,
     "metadata": {},
     "output_type": "execute_result"
    }
   ],
   "source": [
    "# checking for missing values\n",
    "df1.isnull().sum()"
   ]
  },
  {
   "cell_type": "code",
   "execution_count": 43,
   "metadata": {},
   "outputs": [],
   "source": [
    "# handling date_of_journey, dep_time, arrival_time and duration\n",
    "\n",
    "df1['day_of_journey']=pd.to_datetime(df1['Date_of_Journey'],format=\"%d/%m/%Y\").dt.day\n",
    "df1['month_of_journey']=pd.to_datetime(df1['Date_of_Journey'],format=\"%d/%m/%Y\").dt.month\n",
    "\n",
    "df1['Dep_hour']=pd.to_datetime(df1['Dep_Time']).dt.hour\n",
    "df1['Dep_min']=pd.to_datetime(df1['Dep_Time']).dt.minute\n",
    "\n",
    "df1['Arrival_hour']=pd.to_datetime(df1['Arrival_Time']).dt.hour\n",
    "df1['Arrival_min']=pd.to_datetime(df1['Arrival_Time']).dt.minute\n",
    "\n",
    "duration = list(df1[\"Duration\"])\n",
    "\n",
    "for i in range(len(duration)):\n",
    "    if len(duration[i].split()) != 2:    \n",
    "        if \"h\" in duration[i]:\n",
    "            duration[i] = duration[i].strip() + \" 0m\"   \n",
    "        else:\n",
    "            duration[i] = \"0h \" + duration[i]           \n",
    "\n",
    "dur_hours = []\n",
    "dur_mins = []\n",
    "for i in range(len(duration)):\n",
    "    dur_hours.append(int(duration[i].split(sep = \"h\")[0]))    \n",
    "    dur_mins.append(int(duration[i].split(sep = \"m\")[0].split()[-1]))   "
   ]
  },
  {
   "cell_type": "code",
   "execution_count": 44,
   "metadata": {},
   "outputs": [],
   "source": [
    "df1[\"dur_hour\"]=dur_hours\n",
    "df1['dur_mins']=dur_mins\n",
    "\n",
    "df1.drop(['Date_of_Journey','Dep_Time', 'Arrival_Time', 'Duration'],axis=1,inplace=True)"
   ]
  },
  {
   "cell_type": "code",
   "execution_count": 45,
   "metadata": {},
   "outputs": [],
   "source": [
    "df1.drop(['Route','Additional_Info'],axis=1,inplace=True)\n",
    "\n",
    "airline=pd.get_dummies(df1['Airline'],drop_first=True)\n",
    "source=pd.get_dummies(df1['Source'],drop_first=True)\n",
    "destination=pd.get_dummies(df1['Destination'],drop_first=True)\n",
    "\n",
    "totalstopsmap={\"non-stop\":0,\n",
    "              '1 stop':1,\n",
    "              '2 stops':2,\n",
    "              '3 stops':3,\n",
    "              '4 stops':4}\n",
    "df1['totalstop']=df1['Total_Stops'].map(totalstopsmap)\n",
    "\n",
    "df1.drop(['Airline', 'Source', 'Destination', 'Total_Stops'],axis=1,inplace=True)"
   ]
  },
  {
   "cell_type": "code",
   "execution_count": 46,
   "metadata": {},
   "outputs": [],
   "source": [
    "test=pd.concat([df1,airline,source,destination],axis=1)"
   ]
  },
  {
   "cell_type": "code",
   "execution_count": 47,
   "metadata": {},
   "outputs": [],
   "source": [
    "train.to_csv(\"flight.csv\",index=False)"
   ]
  }
 ],
 "metadata": {
  "kernelspec": {
   "display_name": "Python 3",
   "language": "python",
   "name": "python3"
  },
  "language_info": {
   "codemirror_mode": {
    "name": "ipython",
    "version": 3
   },
   "file_extension": ".py",
   "mimetype": "text/x-python",
   "name": "python",
   "nbconvert_exporter": "python",
   "pygments_lexer": "ipython3",
   "version": "3.7.3"
  }
 },
 "nbformat": 4,
 "nbformat_minor": 2
}
